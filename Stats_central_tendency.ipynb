{
  "nbformat": 4,
  "nbformat_minor": 0,
  "metadata": {
    "colab": {
      "name": "Stats central tendency.ipynb",
      "provenance": [],
      "authorship_tag": "ABX9TyOWteQ897LaE3a1fxBkUB39",
      "include_colab_link": true
    },
    "kernelspec": {
      "name": "python3",
      "display_name": "Python 3"
    }
  },
  "cells": [
    {
      "cell_type": "markdown",
      "metadata": {
        "id": "view-in-github",
        "colab_type": "text"
      },
      "source": [
        "<a href=\"https://colab.research.google.com/github/suryagokul/statistics/blob/main/Stats_central_tendency.ipynb\" target=\"_parent\"><img src=\"https://colab.research.google.com/assets/colab-badge.svg\" alt=\"Open In Colab\"/></a>"
      ]
    },
    {
      "cell_type": "markdown",
      "metadata": {
        "id": "AFYtAQr-16dh"
      },
      "source": [
        "### Mean Formula  - \r\n",
        "\r\n",
        "    (sum of all elements)/(total no of elements)"
      ]
    },
    {
      "cell_type": "code",
      "metadata": {
        "id": "elAxvpmpzx1P"
      },
      "source": [
        "import statistics\r\n",
        "\r\n",
        "list = [6,7,5,7,7,8,7,6,9,7,4,10,6,8,8,9,5,6,4,8]\r\n",
        "\r\n",
        "mean = sum(list)/len(list)                          # statistics.mean(list)"
      ],
      "execution_count": 1,
      "outputs": []
    },
    {
      "cell_type": "code",
      "metadata": {
        "colab": {
          "base_uri": "https://localhost:8080/"
        },
        "id": "sKAXpXFvAuhZ",
        "outputId": "07766089-5b9c-43be-c0be-498dec0e5ca7"
      },
      "source": [
        "print(f\"Mean of given numbers is : {mean}\")  "
      ],
      "execution_count": 54,
      "outputs": [
        {
          "output_type": "stream",
          "text": [
            "Mean of given numbers is : 6.85\n"
          ],
          "name": "stdout"
        }
      ]
    },
    {
      "cell_type": "markdown",
      "metadata": {
        "id": "slWlbu8i2NtG"
      },
      "source": [
        "### Steps to find Median : \r\n",
        "\r\n",
        "    step 1 : Sort all the values\r\n",
        "\r\n",
        "    step 2 : Find mid value\r\n",
        "\t\r\n",
        "    step 3 : Add two middle values and divide with 2."
      ]
    },
    {
      "cell_type": "code",
      "metadata": {
        "id": "j05oYjOLz8py"
      },
      "source": [
        "list.sort()\r\n",
        "\r\n",
        "mid = len(list)//2\r\n",
        "\r\n",
        "median = ( list[mid] + list[~mid] )/2           # statistics.median(list) "
      ],
      "execution_count": 4,
      "outputs": []
    },
    {
      "cell_type": "code",
      "metadata": {
        "colab": {
          "base_uri": "https://localhost:8080/"
        },
        "id": "V0YoIQe3Aydx",
        "outputId": "ac1e78aa-b404-463e-d1b9-9bc229d85fb8"
      },
      "source": [
        "print(f\"Median of given numbers is : {median}\")   "
      ],
      "execution_count": 55,
      "outputs": [
        {
          "output_type": "stream",
          "text": [
            "Median of given numbers is : 7.0\n"
          ],
          "name": "stdout"
        }
      ]
    },
    {
      "cell_type": "markdown",
      "metadata": {
        "id": "cRuzMlkl1bxU"
      },
      "source": [
        "`The trick here is to use ~ operator that flip positive number to negative. For instance ~2 -> -3 and using negative in for list in Python will count items from the end. So if you have mid == 2 then it will take third element from beginning and third item from the end.`\r\n"
      ]
    },
    {
      "cell_type": "markdown",
      "metadata": {
        "id": "V2cQAply1zRX"
      },
      "source": [
        "### Mode \r\n",
        "\r\n",
        "`Mode is nothing but most repetitive element in a list..` - \r\n",
        "\r\n",
        "Consider this data - \r\n",
        "\r\n",
        "![](https://cdn.educba.com/academy/wp-content/uploads/2019/07/Mode-Formula-2.1.png)\r\n",
        "\r\n",
        "    Mode Formula : \r\n",
        "\r\n",
        "          Mode = L + (fm− (fm-1))*h /(fm- (fm-1))+(fm− (fm+1))\r\n",
        "\r\n",
        "          Where,\r\n",
        "\r\n",
        "              L    = Lower limit Mode of modal class\r\n",
        "              fm   = Frequency of modal class\r\n",
        "              fm-1 = Frequency of class preceding the modal class\r\n",
        "              fm+1 = Frequency of class succeeding the modal class\r\n",
        "              h    = Size of class interval\r\n",
        "\r\n",
        "Solution : \r\n",
        "\r\n",
        "`Note: – First the modal group with the highest frequency needs to identify If the interval is not continuous 0.5 should be subtracted from the lower limit Mode and 0.5 should be added from the upper limit Mode. Then the interval will be`\r\n",
        "\r\n",
        "\r\n",
        "![](https://cdn.educba.com/academy/wp-content/uploads/2019/07/Mode-Formula-2.2.png)\r\n",
        "\r\n",
        "\r\n",
        "After applying formula for above table, we get mode as - \r\n",
        "\r\n",
        "    Mode = 60.5 + (8 – 7) * 5 / ((8 – 7) + (8 – 4))\r\n",
        "    Mode = 61.5\r\n"
      ]
    },
    {
      "cell_type": "code",
      "metadata": {
        "id": "-eazueKl1eUm"
      },
      "source": [
        "mode = max(list,key=list.count)           "
      ],
      "execution_count": 2,
      "outputs": []
    },
    {
      "cell_type": "code",
      "metadata": {
        "colab": {
          "base_uri": "https://localhost:8080/"
        },
        "id": "lRWSoDkzA2HX",
        "outputId": "e3b599fc-c06d-4f51-b497-e64aa0a2b4a9"
      },
      "source": [
        "print(f\"Mode of given numbers is : {mode}\")"
      ],
      "execution_count": 56,
      "outputs": [
        {
          "output_type": "stream",
          "text": [
            "Mode of given numbers is : 7\n"
          ],
          "name": "stdout"
        }
      ]
    },
    {
      "cell_type": "markdown",
      "metadata": {
        "id": "OaEAodlK57r9"
      },
      "source": [
        "### Standard Deviation\r\n",
        "\r\n",
        "To get standard deviation,we must find `variance`\r\n",
        "\r\n",
        "![](https://lh3.googleusercontent.com/proxy/AIm5fWNPMXp7QvBG6FhKn86n6jjdb4T9hRtydVfpSvuNgcF6BuXg3Ixqv2qnVbXKOUs5LYWG928mcnaOiWbyxOAet9NJHZlymK2GmLWMgv4x)"
      ]
    },
    {
      "cell_type": "markdown",
      "metadata": {
        "id": "4P49xYAE-gwS"
      },
      "source": [
        "`In variance we are calculating distance of every point from mean point and squaring it up to avoid negative values` \r\n",
        "\r\n",
        "Standard Deviation is nothing but\r\n",
        "\r\n",
        "          std =  sqrt(variance) "
      ]
    },
    {
      "cell_type": "markdown",
      "metadata": {
        "id": "MuK7WGJu_CZG"
      },
      "source": [
        "Variance"
      ]
    },
    {
      "cell_type": "code",
      "metadata": {
        "colab": {
          "base_uri": "https://localhost:8080/"
        },
        "id": "C9jbAn_W1m8x",
        "outputId": "686bb58e-ffb2-4e35-f460-073d91f7416e"
      },
      "source": [
        "size = len(list)\r\n",
        "\r\n",
        "variance = 0\r\n",
        "\r\n",
        "for no in list:\r\n",
        "  diff = (no - mean)\r\n",
        "\r\n",
        "  diff_square = diff ** 2\r\n",
        "\r\n",
        "  variance +=diff_square\r\n",
        "\r\n",
        "variance = variance/(size-1)\r\n",
        " \r\n",
        "print(\"Variance of list is : \",variance)"
      ],
      "execution_count": 51,
      "outputs": [
        {
          "output_type": "stream",
          "text": [
            "Variance of list is :  2.660526315789474\n"
          ],
          "name": "stdout"
        }
      ]
    },
    {
      "cell_type": "code",
      "metadata": {
        "id": "uRdawXoM7KN9"
      },
      "source": [
        "# statistics.variance(list)"
      ],
      "execution_count": 52,
      "outputs": []
    },
    {
      "cell_type": "markdown",
      "metadata": {
        "id": "WVxaVZZW_FJ-"
      },
      "source": [
        "Calculating std from variance\r\n",
        "\r\n",
        "`We can calculate sqrt as -`         \r\n",
        "        \r\n",
        "        Sqrt(9)  = 9 pow (1/2)  "
      ]
    },
    {
      "cell_type": "code",
      "metadata": {
        "colab": {
          "base_uri": "https://localhost:8080/"
        },
        "id": "WHkweVm--Jpq",
        "outputId": "b1326150-5c97-4d6b-c6eb-06a7830b2ebb"
      },
      "source": [
        "print(f\"Standard Deviation of given list is :  {variance ** 0.5} \")"
      ],
      "execution_count": 53,
      "outputs": [
        {
          "output_type": "stream",
          "text": [
            "Standard Deviation of given list is :  1.6311119875071343 \n"
          ],
          "name": "stdout"
        }
      ]
    },
    {
      "cell_type": "markdown",
      "metadata": {
        "id": "csdOh3JO8Zjd"
      },
      "source": [
        "### Final Summary"
      ]
    },
    {
      "cell_type": "code",
      "metadata": {
        "colab": {
          "base_uri": "https://localhost:8080/"
        },
        "id": "9q5fMYDf1ixn",
        "outputId": "76187083-0123-4cf5-a141-cafb13564785"
      },
      "source": [
        "print(f\"Mean of given numbers is : {mean}\")              \r\n",
        "\r\n",
        "print(\"-\"*30)\r\n",
        "\r\n",
        "print(f\"Median of given numbers is : {median}\")           \r\n",
        "\r\n",
        "print(\"-\"*30)\r\n",
        "\r\n",
        "print(f\"Mode of given numbers is : {mode}\")\r\n",
        "\r\n",
        "print(\"-\"*30)\r\n",
        "\r\n",
        "print(\"Variance of list is : \",variance)\r\n",
        "\r\n",
        "print(\"-\"*30)\r\n",
        "\r\n",
        "print(f\"Standard Deviation of given list is :  {variance ** 0.5} \")"
      ],
      "execution_count": 57,
      "outputs": [
        {
          "output_type": "stream",
          "text": [
            "Mean of given numbers is : 6.85\n",
            "------------------------------\n",
            "Median of given numbers is : 7.0\n",
            "------------------------------\n",
            "Mode of given numbers is : 7\n",
            "------------------------------\n",
            "Variance of list is :  2.660526315789474\n",
            "------------------------------\n",
            "Standard Deviation of given list is :  1.6311119875071343 \n"
          ],
          "name": "stdout"
        }
      ]
    }
  ]
}